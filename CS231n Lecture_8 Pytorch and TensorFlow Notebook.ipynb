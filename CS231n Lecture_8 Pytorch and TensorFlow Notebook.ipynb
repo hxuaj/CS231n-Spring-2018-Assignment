{
 "cells": [
  {
   "cell_type": "markdown",
   "metadata": {},
   "source": [
    "## CS231n Lecture_8 Pytorch and TensorFlow Notebook"
   ]
  },
  {
   "cell_type": "markdown",
   "metadata": {},
   "source": [
    "Running example: Train a two-layer ReLU network on random data with L2 loss."
   ]
  },
  {
   "cell_type": "code",
   "execution_count": 1,
   "metadata": {
    "collapsed": true
   },
   "outputs": [
    {
     "name": "stderr",
     "output_type": "stream",
     "text": [
      "/Users/xuhaomin/anaconda3/lib/python3.6/site-packages/h5py/__init__.py:36: FutureWarning: Conversion of the second argument of issubdtype from `float` to `np.floating` is deprecated. In future, it will be treated as `np.float64 == np.dtype(float).type`.\n",
      "  from ._conv import register_converters as _register_converters\n"
     ]
    }
   ],
   "source": [
    "import numpy as np\n",
    "import tensorflow as tf"
   ]
  },
  {
   "cell_type": "code",
   "execution_count": 2,
   "metadata": {},
   "outputs": [],
   "source": [
    "def train_with_group_method():\n",
    "    \"\"\"\n",
    "    The purpose to use group is to avoid \n",
    "    weights copied from disk and keep them in the GPU\n",
    "    \"\"\"\n",
    "    \n",
    "    # Define\n",
    "\n",
    "    ## create placeholder(no compute)\n",
    "    N, D, H = 64, 1000, 100\n",
    "    x = tf.placeholder(tf.float32, shape=(N, D))\n",
    "    y = tf.placeholder(tf.float32, shape=(N, D))\n",
    "    ## create w1 and w2 as variable, which presists in the graph between calls(no compute)\n",
    "    w1 = tf.Variable(tf.random_normal((D, H)))\n",
    "    w2 = tf.Variable(tf.random_normal((H, D)))\n",
    "\n",
    "    ## build graph \n",
    "    ### forward pass(no compute)\n",
    "    h = tf.maximum(tf.matmul(x, w1), 0)\n",
    "    y_pred = tf.matmul(h, w2)\n",
    "    diff = y_pred - y\n",
    "    loss = tf.reduce_mean(tf.reduce_sum(diff ** 2, axis=1))\n",
    "    ### tell tf to compute loss of gradient with respect to w1 and w2(no compute)\n",
    "    grad_w1, grad_w2 = tf.gradients(loss, [w1, w2])\n",
    "    ### add assign operations to update w1 and w2 as part of the graph.\n",
    "    learning_rate = 2.7e-5\n",
    "    new_w1 = w1.assign(w1 - learning_rate * grad_w1)\n",
    "    new_w2 = w2.assign(w2 - learning_rate * grad_w2)\n",
    "    ### add dummy graph node that depends on updates\n",
    "    updates = tf.group(new_w1, new_w2)\n",
    "\n",
    "    # Run\n",
    "    loss_log = []\n",
    "    with tf.Session() as sess:\n",
    "        sess.run(tf.global_variables_initializer())\n",
    "        values = {x: np.random.randn(N, D),\n",
    "                  y: np.random.randn(N, D),}\n",
    "        for t in range(50):\n",
    "            # out = sess.run([loss, grad_w1, grad_w2],\n",
    "            #                feed_dict=values)\n",
    "            # loss_val, grad_w1_val, grad_w2_val = out\n",
    "\n",
    "            ##the updates here tell graph to compute dummy node\n",
    "            loss_val, _ = sess.run([loss, updates], feed_dict=values)\n",
    "            loss_log.append(loss_val)\n",
    "    return loss_log"
   ]
  },
  {
   "cell_type": "code",
   "execution_count": 3,
   "metadata": {},
   "outputs": [],
   "source": [
    "def train_with_optimizer():    \n",
    "    \n",
    "    \n",
    "    # Define\n",
    "\n",
    "    N, D, H = 64, 1000, 100\n",
    "    x = tf.placeholder(tf.float32, shape=(N, D))\n",
    "    y = tf.placeholder(tf.float32, shape=(N, D))\n",
    "\n",
    "    w1 = tf.Variable(tf.random_normal((D, H)))\n",
    "    w2 = tf.Variable(tf.random_normal((H, D)))\n",
    "\n",
    "    # build graph\n",
    "    \n",
    "    # forward pass(no compute)\n",
    "    h = tf.maximum(tf.matmul(x, w1), 0)\n",
    "    y_pred = tf.matmul(h, w2)\n",
    "\n",
    "    loss = tf.losses.mean_squared_error(y_pred, y)\n",
    "    \n",
    "    optimizer = tf.train.GradientDescentOptimizer(2.7e-5)\n",
    "    # variable w1 and w2 are marked as trainable by default here\n",
    "    updates = optimizer.minimize(loss)\n",
    "\n",
    "    # Run\n",
    "\n",
    "    with tf.Session() as sess:\n",
    "        # tf.global_variables_initializer uses tf.random_normal to initialize variables\n",
    "        sess.run(tf.global_variables_initializer())\n",
    "        values = {x: np.random.randn(N, D),\n",
    "                  y: np.random.randn(N, D),}\n",
    "        loss_log = []\n",
    "        for t in range(50):\n",
    "#             out = sess.run([loss, grad_w1, grad_w2],\n",
    "#                            feed_dict=values)\n",
    "#             loss_val, grad_w1_val, grad_w2_val = out\n",
    "\n",
    "            # the updates here tell graph to compute dummy node\n",
    "            loss_val, _ = sess.run([loss, updates], feed_dict=values)\n",
    "            loss_log.append(loss_val)\n",
    "    return loss_log "
   ]
  },
  {
   "cell_type": "code",
   "execution_count": 4,
   "metadata": {},
   "outputs": [],
   "source": [
    "def train_with_tf_layers():\n",
    "\n",
    "    N, D, H = 64, 1000, 100\n",
    "    x = tf.placeholder(tf.float32, shape=(N, D))\n",
    "    y = tf.placeholder(tf.float32, shape=(N, D))\n",
    "\n",
    "    ##### use tf.layers to form the layers #####\n",
    "    init = tf.contrib.layers.xavier_initializer()\n",
    "    # tf.layers automatically sets up weight and bias.\n",
    "    h = tf.layers.dense(inputs=x, units=H, activation=tf.nn.relu, kernel_initializer=init)\n",
    "    y_pred = tf.layers.dense(inputs=h, units=D, kernel_initializer=init)\n",
    "    ############################################\n",
    "    \n",
    "    loss = tf.losses.mean_squared_error(y_pred, y)\n",
    "    \n",
    "    optimizer = tf.train.GradientDescentOptimizer(1e-1)\n",
    "    updates = optimizer.minimize(loss)\n",
    "\n",
    "    with tf.Session() as sess:\n",
    "        # tf.global_variables_initializer uses tf.random_normal to initialize variables\n",
    "        sess.run(tf.global_variables_initializer())\n",
    "        values = {x: np.random.randn(N, D),\n",
    "                  y: np.random.randn(N, D),}\n",
    "        loss_log = []\n",
    "        for t in range(50):\n",
    "#             out = sess.run([loss, grad_w1, grad_w2],\n",
    "#                            feed_dict=values)\n",
    "#             loss_val, grad_w1_val, grad_w2_val = out\n",
    "\n",
    "            # the updates here tell graph to compute dummy node\n",
    "            loss_val, _ = sess.run([loss, updates], feed_dict=values)\n",
    "            loss_log.append(loss_val)\n",
    "    return loss_log "
   ]
  },
  {
   "cell_type": "code",
   "execution_count": 10,
   "metadata": {},
   "outputs": [],
   "source": [
    "def train_with_keras_1():\n",
    "\n",
    "    N, D, H = 64, 1000, 100\n",
    "    x = tf.placeholder(tf.float32, shape=(N, D))\n",
    "    y = tf.placeholder(tf.float32, shape=(N, D))\n",
    "    \n",
    "    ##### use keras to form the layers #####\n",
    "    model = tf.keras.Sequential()\n",
    "    model.add(tf.keras.layers.Dense(H, input_shape=(D, ), activation=tf.nn.relu))\n",
    "    model.add(tf.keras.layers.Dense(D))\n",
    "    y_pred = model(x)\n",
    "    ########################################\n",
    "    loss = tf.losses.mean_squared_error(y_pred, y)\n",
    "    \n",
    "    optimizer = tf.train.GradientDescentOptimizer(1e-1)\n",
    "    updates = optimizer.minimize(loss)\n",
    "\n",
    "    with tf.Session() as sess:\n",
    "        # tf.global_variables_initializer uses tf.random_normal to initialize variables\n",
    "        sess.run(tf.global_variables_initializer())\n",
    "        values = {x: np.random.randn(N, D),\n",
    "                  y: np.random.randn(N, D),}\n",
    "        loss_log = []\n",
    "        for t in range(50):\n",
    "            # the updates here tell graph to compute dummy node\n",
    "            loss_val, _ = sess.run([loss, updates], feed_dict=values)\n",
    "            loss_log.append(loss_val)\n",
    "    return loss_log "
   ]
  },
  {
   "cell_type": "code",
   "execution_count": 13,
   "metadata": {},
   "outputs": [],
   "source": [
    "def train_with_keras_2():\n",
    "    \n",
    "    N, D, H = 64, 1000, 100\n",
    "    model = tf.keras.Sequential()\n",
    "    model.add(tf.keras.layers.Dense(H, input_shape=(D, ), activation=tf.nn.relu))\n",
    "    model.add(tf.keras.layers.Dense(D))\n",
    "    \n",
    "    model.compile(loss=tf.keras.losses.mean_absolute_error,\n",
    "                  optimizer=tf.keras.optimizers.SGD(lr=1e-1))\n",
    "    \n",
    "    x = np.random.randn(N, D)\n",
    "    y = np.random.randn(N, D)\n",
    "    \n",
    "    history = model.fit(x, y, epochs=50, batch_size=N)\n",
    "    \n",
    "    return history"
   ]
  },
  {
   "cell_type": "code",
   "execution_count": 11,
   "metadata": {},
   "outputs": [
    {
     "data": {
      "image/png": "[encoded data removed]",
      "text/plain": [
       "<Figure size 432x288 with 1 Axes>"
      ]
     },
     "metadata": {},
     "output_type": "display_data"
    }
   ],
   "source": [
    "import matplotlib.pyplot as plt\n",
    "%matplotlib inline\n",
    "\n",
    "#loss_log = train_with_group_method()\n",
    "#loss_log = train_with_optimizer()\n",
    "#loss_log = train_with_tf_layers()\n",
    "loss_log = train_with_keras_1()\n",
    "\n",
    "x = np.array([i for i in range(50)])\n",
    "plt.plot(x, np.log10(loss_log), 'o')\n",
    "plt.show()"
   ]
  }
 ],
 "metadata": {
  "kernelspec": {
   "display_name": "Python 3",
   "language": "python",
   "name": "python3"
  },
  "language_info": {
   "codemirror_mode": {
    "name": "ipython",
    "version": 3
   },
   "file_extension": ".py",
   "mimetype": "text/x-python",
   "name": "python",
   "nbconvert_exporter": "python",
   "pygments_lexer": "ipython3",
   "version": "3.6.5"
  }
 },
 "nbformat": 4,
 "nbformat_minor": 2
}
